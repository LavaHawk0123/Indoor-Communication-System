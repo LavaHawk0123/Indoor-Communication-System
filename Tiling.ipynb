{
 "cells": [
  {
   "cell_type": "code",
   "execution_count": 19,
   "id": "ae195652-e395-40a9-a680-9260dcf2795a",
   "metadata": {},
   "outputs": [
    {
     "name": "stdout",
     "output_type": "stream",
     "text": [
      "(800, 533)\n",
      "(533, 800, 3)\n"
     ]
    }
   ],
   "source": [
    "\n",
    "import numpy as np\n",
    "from PIL import Image\n",
    "image = Image.open('Sample.jpg')\n",
    "print(image.size)\n",
    "numpydata = np.asarray(image)\n",
    "print(numpydata.shape)\n",
    "image.show()"
   ]
  },
  {
   "cell_type": "code",
   "execution_count": 33,
   "id": "862c1e5b-5f66-42f6-a5c0-a1da8c116bc9",
   "metadata": {},
   "outputs": [
    {
     "name": "stdout",
     "output_type": "stream",
     "text": [
      "[[0. 0. 0. ... 0. 0. 0.]\n",
      " [0. 0. 0. ... 0. 0. 0.]\n",
      " [0. 0. 0. ... 0. 0. 0.]\n",
      " ...\n",
      " [0. 0. 0. ... 0. 0. 0.]\n",
      " [0. 0. 0. ... 0. 0. 0.]\n",
      " [0. 0. 0. ... 0. 0. 0.]]\n"
     ]
    }
   ],
   "source": [
    "frame = np.round(np.mean(numpydata, axis = 2)/255)*255# + numpydata[:,:,1] + numpydata[:,:,2])/3)\n",
    "print(frame)\n",
    "im = Image.fromarray(np.uint8(frame))\n",
    "im.show()\n"
   ]
  },
  {
   "cell_type": "code",
   "execution_count": 60,
   "id": "587bb703-1676-462b-95bc-2679a58995a4",
   "metadata": {},
   "outputs": [],
   "source": [
    "def tile(arr):\n",
    "    kernel = (3,3)\n",
    "    tiled = []\n",
    "    for i in range(0,len(arr[0]) - kernel[0],kernel[0]):\n",
    "        row = []\n",
    "        for j in range(0,len(arr) - kernel[1], kernel[1]):\n",
    "            row += [np.mean(arr[i:i+kernel[0],j:j+kernel[1]])]\n",
    "        tiled+=[row]\n",
    "    return np.uint8(tiled)"
   ]
  },
  {
   "cell_type": "code",
   "execution_count": 66,
   "id": "d156488c-0544-45c4-b499-fbba293dc4bc",
   "metadata": {},
   "outputs": [
    {
     "name": "stdout",
     "output_type": "stream",
     "text": [
      "(266, 177)\n"
     ]
    }
   ],
   "source": [
    "t_array = tile(frame)\n",
    "tiled = Image.fromarray(t_array)\n",
    "print(t_array.shape)"
   ]
  },
  {
   "cell_type": "code",
   "execution_count": 70,
   "id": "0c642f15-a94f-4574-a94c-676fa896a3b0",
   "metadata": {},
   "outputs": [
    {
     "name": "stderr",
     "output_type": "stream",
     "text": [
      "\n",
      "(eog:32022): Gtk-CRITICAL **: 23:23:39.224: gtk_cell_area_apply_attributes: assertion 'GTK_IS_CELL_AREA (area)' failed\n",
      "\n",
      "(eog:32022): Gtk-CRITICAL **: 23:23:39.224: gtk_cell_area_foreach: assertion 'GTK_IS_CELL_AREA (area)' failed\n",
      "\n",
      "(eog:32022): Gtk-CRITICAL **: 23:23:42.307: gtk_cell_area_apply_attributes: assertion 'GTK_IS_CELL_AREA (area)' failed\n",
      "\n",
      "(eog:32022): Gtk-CRITICAL **: 23:23:42.307: gtk_cell_area_foreach: assertion 'GTK_IS_CELL_AREA (area)' failed\n"
     ]
    }
   ],
   "source": [
    "tiled.show()\n",
    "im.show()"
   ]
  },
  {
   "cell_type": "code",
   "execution_count": 68,
   "id": "4692870c-f98d-4840-98dd-ee564b149c32",
   "metadata": {},
   "outputs": [],
   "source": []
  },
  {
   "cell_type": "code",
   "execution_count": null,
   "id": "3e87bcac-f52b-40d5-92d5-233a9ab3f926",
   "metadata": {},
   "outputs": [],
   "source": []
  }
 ],
 "metadata": {
  "kernelspec": {
   "display_name": "Python 3 (ipykernel)",
   "language": "python",
   "name": "python3"
  },
  "language_info": {
   "codemirror_mode": {
    "name": "ipython",
    "version": 3
   },
   "file_extension": ".py",
   "mimetype": "text/x-python",
   "name": "python",
   "nbconvert_exporter": "python",
   "pygments_lexer": "ipython3",
   "version": "3.10.6"
  }
 },
 "nbformat": 4,
 "nbformat_minor": 5
}
